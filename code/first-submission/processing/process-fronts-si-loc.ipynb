{
 "cells": [
  {
   "cell_type": "code",
   "execution_count": 2,
   "metadata": {},
   "outputs": [
    {
     "data": {
      "text/plain": [
       "'/Users/xduplm/Library/CloudStorage/GoogleDrive-marceldpl10@gmail.com/My Drive/projects/2023_duplessis_storms_fluxes/duplessis-storms-warming/duplessis-storms-warming/code'"
      ]
     },
     "execution_count": 2,
     "metadata": {},
     "output_type": "execute_result"
    }
   ],
   "source": [
    "pwd"
   ]
  },
  {
   "cell_type": "code",
   "execution_count": 5,
   "metadata": {},
   "outputs": [],
   "source": [
    "# saved SAF and PF locations from Sokolov and Rintoul (2009)\n",
    "\n",
    "import scipy.io\n",
    "import numpy as np\n",
    "\n",
    "mat = scipy.io.loadmat(\"../data/fronts/ACCfronts.mat\")\n",
    "\n",
    "XPF  = np.array(list(mat.items())[3][1]).squeeze()\n",
    "XSAF = np.array(list(mat.items())[4][1]).squeeze()\n",
    "YPF  = np.array(list(mat.items())[5][1]).squeeze()\n",
    "YSAF = np.array(list(mat.items())[6][1]).squeeze()\n",
    "\n",
    "import pandas as pd\n",
    "\n",
    "XPF  = pd.Series(XPF )\n",
    "XSAF = pd.Series(XSAF)\n",
    "YPF  = pd.Series(YPF )\n",
    "YSAF = pd.Series(YSAF)\n",
    "\n",
    "window_size = 10\n",
    "\n",
    "XPF  = XPF .rolling(window=window_size, min_periods=1).mean()\n",
    "XSAF = XSAF.rolling(window=window_size, min_periods=1).mean()\n",
    "YPF  = YPF .rolling(window=window_size, min_periods=1).mean()\n",
    "YSAF = YSAF.rolling(window=window_size, min_periods=1).mean()\n",
    "\n",
    "# load the sea ice concentration data set\n",
    "\n",
    "import xarray as xr\n",
    "\n",
    "sic_noaa = xr.open_dataset('../data/seaice/icec.mnmean.nc')\n",
    "\n",
    "# Step 1: Group by month and calculate the mean\n",
    "sic_month = sic_noaa.groupby('time.month').mean(dim='time')\n",
    "\n",
    "# Step 2: Select December values (month=12)\n",
    "sic_dec = sic_month.sel(month=12).sel(lat=slice(0, -90))\n",
    "\n",
    "lat_sie = np.ndarray(sic_dec.lon.size)\n",
    "\n",
    "for i in range(sic_dec.lon.size):\n",
    "\n",
    "    x = sic_dec.isel(lon=i)\n",
    "\n",
    "    lat_sie[i] = x.icec[x.icec > 15].lat.max()\n",
    "\n",
    "# smooth teh sea ice\n",
    "\n",
    "idx1 = sic_dec.lon >= 180\n",
    "\n",
    "idx2 = sic_dec.lon < 180\n",
    "\n",
    "sie_lon = np.append(sic_dec.lon[idx1].values-360, sic_dec.lon[idx2].values)\n",
    "\n",
    "sie_lat = np.append(lat_sie[idx1], lat_sie[idx2])\n",
    "\n",
    "import numpy as np\n",
    "\n",
    "def circular_running_mean(x, N):\n",
    "    padded_x = np.concatenate((x[-N+1:], x, x[:N-1]))\n",
    "    cumsum = np.cumsum(np.insert(padded_x, 0, 0)) \n",
    "    return (cumsum[N:] - cumsum[:-N]) / float(N)\n",
    "\n",
    "\n",
    "sie_lat = circular_running_mean(sie_lat, 3)[1:-1]"
   ]
  },
  {
   "cell_type": "code",
   "execution_count": 9,
   "metadata": {},
   "outputs": [],
   "source": [
    "fr_df = pd.DataFrame(data={'pf_lon': XPF,\n",
    "                           'pf_lat': YPF,\n",
    "                           'saf_lon': XSAF,\n",
    "                           'saf_lat': YSAF\n",
    "                           })\n",
    "\n",
    "si_df = pd.DataFrame(data={'si_lon': sie_lon,\n",
    "                           'si_lat': sie_lat\n",
    "                           })"
   ]
  },
  {
   "cell_type": "code",
   "execution_count": 10,
   "metadata": {},
   "outputs": [],
   "source": [
    "fr_df.to_csv('../data/fronts/ACCfronts.csv')\n",
    "si_df.to_csv('../data/seaice/sie.csv')"
   ]
  }
 ],
 "metadata": {
  "kernelspec": {
   "display_name": "storms_env",
   "language": "python",
   "name": "python3"
  },
  "language_info": {
   "codemirror_mode": {
    "name": "ipython",
    "version": 3
   },
   "file_extension": ".py",
   "mimetype": "text/x-python",
   "name": "python",
   "nbconvert_exporter": "python",
   "pygments_lexer": "ipython3",
   "version": "3.11.5"
  }
 },
 "nbformat": 4,
 "nbformat_minor": 2
}
