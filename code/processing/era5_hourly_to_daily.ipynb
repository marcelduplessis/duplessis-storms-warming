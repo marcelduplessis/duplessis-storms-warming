{
 "cells": [
  {
   "cell_type": "markdown",
   "id": "375d1706-22bc-4dc1-b078-2de76c4d819b",
   "metadata": {},
   "source": [
    "### Convert the hourly ERA5 fields to daily and save as netCDF files\n",
    "\n",
    "A bit of data processing... Now we read in each of the 1-hour ERA5 data files and create daily means. This is because for the storm statistics, we use the daily mean variables so we don't care too much about sub-daily variability. This also makes the data much, much easier to work with. We also cut the latitudes at 40S because we don't use data north of that due to the strong subtropical, and western boundary current infleunce."
   ]
  },
  {
   "cell_type": "code",
   "execution_count": 1,
   "id": "b407be9a-2039-48ca-a285-245b7c11c23d",
   "metadata": {},
   "outputs": [
    {
     "name": "stdout",
     "output_type": "stream",
     "text": [
      "Intel MKL WARNING: Support of Intel(R) Streaming SIMD Extensions 4.2 (Intel(R) SSE4.2) enabled only processors has been deprecated. Intel oneAPI Math Kernel Library 2025.0 will require Intel(R) Advanced Vector Extensions (Intel(R) AVX) instructions.\n",
      "Intel MKL WARNING: Support of Intel(R) Streaming SIMD Extensions 4.2 (Intel(R) SSE4.2) enabled only processors has been deprecated. Intel oneAPI Math Kernel Library 2025.0 will require Intel(R) Advanced Vector Extensions (Intel(R) AVX) instructions.\n"
     ]
    }
   ],
   "source": [
    "# load the modules needed for the data processing\n",
    "\n",
    "import sys\n",
    "sys.path.append('../functions/')\n",
    "\n",
    "import numpy as np\n",
    "import xarray as xr\n",
    "\n",
    "from glob import glob\n",
    "from tqdm.notebook import tqdm \n",
    "\n",
    "from storm_interstorm_id import storm_interstorm_id\n",
    "\n",
    "from adjust_lon_xr_dataset import *"
   ]
  },
  {
   "cell_type": "code",
   "execution_count": 13,
   "id": "66591f63",
   "metadata": {},
   "outputs": [
    {
     "data": {
      "text/plain": [
       "['/Volumes/LaCie/Work/data/era5/DJF_1981_2023_hourly_means/DJF_1981_2023_net_solar_radiation/surface_net_solar_radiation_198101.nc',\n",
       " '/Volumes/LaCie/Work/data/era5/DJF_1981_2023_hourly_means/DJF_1981_2023_net_solar_radiation/surface_net_solar_radiation_198102.nc',\n",
       " '/Volumes/LaCie/Work/data/era5/DJF_1981_2023_hourly_means/DJF_1981_2023_net_solar_radiation/surface_net_solar_radiation_198112.nc',\n",
       " '/Volumes/LaCie/Work/data/era5/DJF_1981_2023_hourly_means/DJF_1981_2023_net_solar_radiation/surface_net_solar_radiation_198201.nc',\n",
       " '/Volumes/LaCie/Work/data/era5/DJF_1981_2023_hourly_means/DJF_1981_2023_net_solar_radiation/surface_net_solar_radiation_198202.nc',\n",
       " '/Volumes/LaCie/Work/data/era5/DJF_1981_2023_hourly_means/DJF_1981_2023_net_solar_radiation/surface_net_solar_radiation_198212.nc',\n",
       " '/Volumes/LaCie/Work/data/era5/DJF_1981_2023_hourly_means/DJF_1981_2023_net_solar_radiation/surface_net_solar_radiation_198301.nc',\n",
       " '/Volumes/LaCie/Work/data/era5/DJF_1981_2023_hourly_means/DJF_1981_2023_net_solar_radiation/surface_net_solar_radiation_198302.nc',\n",
       " '/Volumes/LaCie/Work/data/era5/DJF_1981_2023_hourly_means/DJF_1981_2023_net_solar_radiation/surface_net_solar_radiation_198312.nc',\n",
       " '/Volumes/LaCie/Work/data/era5/DJF_1981_2023_hourly_means/DJF_1981_2023_net_solar_radiation/surface_net_solar_radiation_198401.nc',\n",
       " '/Volumes/LaCie/Work/data/era5/DJF_1981_2023_hourly_means/DJF_1981_2023_net_solar_radiation/surface_net_solar_radiation_198402.nc',\n",
       " '/Volumes/LaCie/Work/data/era5/DJF_1981_2023_hourly_means/DJF_1981_2023_net_solar_radiation/surface_net_solar_radiation_198412.nc',\n",
       " '/Volumes/LaCie/Work/data/era5/DJF_1981_2023_hourly_means/DJF_1981_2023_net_solar_radiation/surface_net_solar_radiation_198501.nc',\n",
       " '/Volumes/LaCie/Work/data/era5/DJF_1981_2023_hourly_means/DJF_1981_2023_net_solar_radiation/surface_net_solar_radiation_198502.nc',\n",
       " '/Volumes/LaCie/Work/data/era5/DJF_1981_2023_hourly_means/DJF_1981_2023_net_solar_radiation/surface_net_solar_radiation_198512.nc',\n",
       " '/Volumes/LaCie/Work/data/era5/DJF_1981_2023_hourly_means/DJF_1981_2023_net_solar_radiation/surface_net_solar_radiation_198601.nc',\n",
       " '/Volumes/LaCie/Work/data/era5/DJF_1981_2023_hourly_means/DJF_1981_2023_net_solar_radiation/surface_net_solar_radiation_198602.nc',\n",
       " '/Volumes/LaCie/Work/data/era5/DJF_1981_2023_hourly_means/DJF_1981_2023_net_solar_radiation/surface_net_solar_radiation_198612.nc',\n",
       " '/Volumes/LaCie/Work/data/era5/DJF_1981_2023_hourly_means/DJF_1981_2023_net_solar_radiation/surface_net_solar_radiation_198701.nc',\n",
       " '/Volumes/LaCie/Work/data/era5/DJF_1981_2023_hourly_means/DJF_1981_2023_net_solar_radiation/surface_net_solar_radiation_198702.nc',\n",
       " '/Volumes/LaCie/Work/data/era5/DJF_1981_2023_hourly_means/DJF_1981_2023_net_solar_radiation/surface_net_solar_radiation_198712.nc',\n",
       " '/Volumes/LaCie/Work/data/era5/DJF_1981_2023_hourly_means/DJF_1981_2023_net_solar_radiation/surface_net_solar_radiation_198801.nc',\n",
       " '/Volumes/LaCie/Work/data/era5/DJF_1981_2023_hourly_means/DJF_1981_2023_net_solar_radiation/surface_net_solar_radiation_198802.nc',\n",
       " '/Volumes/LaCie/Work/data/era5/DJF_1981_2023_hourly_means/DJF_1981_2023_net_solar_radiation/surface_net_solar_radiation_198812.nc',\n",
       " '/Volumes/LaCie/Work/data/era5/DJF_1981_2023_hourly_means/DJF_1981_2023_net_solar_radiation/surface_net_solar_radiation_198901.nc',\n",
       " '/Volumes/LaCie/Work/data/era5/DJF_1981_2023_hourly_means/DJF_1981_2023_net_solar_radiation/surface_net_solar_radiation_198902.nc',\n",
       " '/Volumes/LaCie/Work/data/era5/DJF_1981_2023_hourly_means/DJF_1981_2023_net_solar_radiation/surface_net_solar_radiation_198912.nc',\n",
       " '/Volumes/LaCie/Work/data/era5/DJF_1981_2023_hourly_means/DJF_1981_2023_net_solar_radiation/surface_net_solar_radiation_199001.nc',\n",
       " '/Volumes/LaCie/Work/data/era5/DJF_1981_2023_hourly_means/DJF_1981_2023_net_solar_radiation/surface_net_solar_radiation_199002.nc',\n",
       " '/Volumes/LaCie/Work/data/era5/DJF_1981_2023_hourly_means/DJF_1981_2023_net_solar_radiation/surface_net_solar_radiation_199012.nc',\n",
       " '/Volumes/LaCie/Work/data/era5/DJF_1981_2023_hourly_means/DJF_1981_2023_net_solar_radiation/surface_net_solar_radiation_199101.nc',\n",
       " '/Volumes/LaCie/Work/data/era5/DJF_1981_2023_hourly_means/DJF_1981_2023_net_solar_radiation/surface_net_solar_radiation_199102.nc',\n",
       " '/Volumes/LaCie/Work/data/era5/DJF_1981_2023_hourly_means/DJF_1981_2023_net_solar_radiation/surface_net_solar_radiation_199112.nc',\n",
       " '/Volumes/LaCie/Work/data/era5/DJF_1981_2023_hourly_means/DJF_1981_2023_net_solar_radiation/surface_net_solar_radiation_199201.nc',\n",
       " '/Volumes/LaCie/Work/data/era5/DJF_1981_2023_hourly_means/DJF_1981_2023_net_solar_radiation/surface_net_solar_radiation_199202.nc',\n",
       " '/Volumes/LaCie/Work/data/era5/DJF_1981_2023_hourly_means/DJF_1981_2023_net_solar_radiation/surface_net_solar_radiation_199212.nc',\n",
       " '/Volumes/LaCie/Work/data/era5/DJF_1981_2023_hourly_means/DJF_1981_2023_net_solar_radiation/surface_net_solar_radiation_199301.nc',\n",
       " '/Volumes/LaCie/Work/data/era5/DJF_1981_2023_hourly_means/DJF_1981_2023_net_solar_radiation/surface_net_solar_radiation_199302.nc',\n",
       " '/Volumes/LaCie/Work/data/era5/DJF_1981_2023_hourly_means/DJF_1981_2023_net_solar_radiation/surface_net_solar_radiation_199312.nc',\n",
       " '/Volumes/LaCie/Work/data/era5/DJF_1981_2023_hourly_means/DJF_1981_2023_net_solar_radiation/surface_net_solar_radiation_199401.nc',\n",
       " '/Volumes/LaCie/Work/data/era5/DJF_1981_2023_hourly_means/DJF_1981_2023_net_solar_radiation/surface_net_solar_radiation_199402.nc',\n",
       " '/Volumes/LaCie/Work/data/era5/DJF_1981_2023_hourly_means/DJF_1981_2023_net_solar_radiation/surface_net_solar_radiation_199412.nc',\n",
       " '/Volumes/LaCie/Work/data/era5/DJF_1981_2023_hourly_means/DJF_1981_2023_net_solar_radiation/surface_net_solar_radiation_199501.nc',\n",
       " '/Volumes/LaCie/Work/data/era5/DJF_1981_2023_hourly_means/DJF_1981_2023_net_solar_radiation/surface_net_solar_radiation_199502.nc',\n",
       " '/Volumes/LaCie/Work/data/era5/DJF_1981_2023_hourly_means/DJF_1981_2023_net_solar_radiation/surface_net_solar_radiation_199512.nc',\n",
       " '/Volumes/LaCie/Work/data/era5/DJF_1981_2023_hourly_means/DJF_1981_2023_net_solar_radiation/surface_net_solar_radiation_199601.nc',\n",
       " '/Volumes/LaCie/Work/data/era5/DJF_1981_2023_hourly_means/DJF_1981_2023_net_solar_radiation/surface_net_solar_radiation_199602.nc',\n",
       " '/Volumes/LaCie/Work/data/era5/DJF_1981_2023_hourly_means/DJF_1981_2023_net_solar_radiation/surface_net_solar_radiation_199612.nc',\n",
       " '/Volumes/LaCie/Work/data/era5/DJF_1981_2023_hourly_means/DJF_1981_2023_net_solar_radiation/surface_net_solar_radiation_199701.nc',\n",
       " '/Volumes/LaCie/Work/data/era5/DJF_1981_2023_hourly_means/DJF_1981_2023_net_solar_radiation/surface_net_solar_radiation_199702.nc',\n",
       " '/Volumes/LaCie/Work/data/era5/DJF_1981_2023_hourly_means/DJF_1981_2023_net_solar_radiation/surface_net_solar_radiation_199712.nc',\n",
       " '/Volumes/LaCie/Work/data/era5/DJF_1981_2023_hourly_means/DJF_1981_2023_net_solar_radiation/surface_net_solar_radiation_199801.nc',\n",
       " '/Volumes/LaCie/Work/data/era5/DJF_1981_2023_hourly_means/DJF_1981_2023_net_solar_radiation/surface_net_solar_radiation_199802.nc',\n",
       " '/Volumes/LaCie/Work/data/era5/DJF_1981_2023_hourly_means/DJF_1981_2023_net_solar_radiation/surface_net_solar_radiation_199812.nc',\n",
       " '/Volumes/LaCie/Work/data/era5/DJF_1981_2023_hourly_means/DJF_1981_2023_net_solar_radiation/surface_net_solar_radiation_199901.nc',\n",
       " '/Volumes/LaCie/Work/data/era5/DJF_1981_2023_hourly_means/DJF_1981_2023_net_solar_radiation/surface_net_solar_radiation_199902.nc',\n",
       " '/Volumes/LaCie/Work/data/era5/DJF_1981_2023_hourly_means/DJF_1981_2023_net_solar_radiation/surface_net_solar_radiation_199912.nc',\n",
       " '/Volumes/LaCie/Work/data/era5/DJF_1981_2023_hourly_means/DJF_1981_2023_net_solar_radiation/surface_net_solar_radiation_200001.nc',\n",
       " '/Volumes/LaCie/Work/data/era5/DJF_1981_2023_hourly_means/DJF_1981_2023_net_solar_radiation/surface_net_solar_radiation_200002.nc',\n",
       " '/Volumes/LaCie/Work/data/era5/DJF_1981_2023_hourly_means/DJF_1981_2023_net_solar_radiation/surface_net_solar_radiation_200012.nc',\n",
       " '/Volumes/LaCie/Work/data/era5/DJF_1981_2023_hourly_means/DJF_1981_2023_net_solar_radiation/surface_net_solar_radiation_200101.nc',\n",
       " '/Volumes/LaCie/Work/data/era5/DJF_1981_2023_hourly_means/DJF_1981_2023_net_solar_radiation/surface_net_solar_radiation_200102.nc',\n",
       " '/Volumes/LaCie/Work/data/era5/DJF_1981_2023_hourly_means/DJF_1981_2023_net_solar_radiation/surface_net_solar_radiation_200112.nc',\n",
       " '/Volumes/LaCie/Work/data/era5/DJF_1981_2023_hourly_means/DJF_1981_2023_net_solar_radiation/surface_net_solar_radiation_200201.nc',\n",
       " '/Volumes/LaCie/Work/data/era5/DJF_1981_2023_hourly_means/DJF_1981_2023_net_solar_radiation/surface_net_solar_radiation_200202.nc',\n",
       " '/Volumes/LaCie/Work/data/era5/DJF_1981_2023_hourly_means/DJF_1981_2023_net_solar_radiation/surface_net_solar_radiation_200212.nc',\n",
       " '/Volumes/LaCie/Work/data/era5/DJF_1981_2023_hourly_means/DJF_1981_2023_net_solar_radiation/surface_net_solar_radiation_200301.nc',\n",
       " '/Volumes/LaCie/Work/data/era5/DJF_1981_2023_hourly_means/DJF_1981_2023_net_solar_radiation/surface_net_solar_radiation_200302.nc',\n",
       " '/Volumes/LaCie/Work/data/era5/DJF_1981_2023_hourly_means/DJF_1981_2023_net_solar_radiation/surface_net_solar_radiation_200312.nc',\n",
       " '/Volumes/LaCie/Work/data/era5/DJF_1981_2023_hourly_means/DJF_1981_2023_net_solar_radiation/surface_net_solar_radiation_200401.nc',\n",
       " '/Volumes/LaCie/Work/data/era5/DJF_1981_2023_hourly_means/DJF_1981_2023_net_solar_radiation/surface_net_solar_radiation_200402.nc',\n",
       " '/Volumes/LaCie/Work/data/era5/DJF_1981_2023_hourly_means/DJF_1981_2023_net_solar_radiation/surface_net_solar_radiation_200412.nc',\n",
       " '/Volumes/LaCie/Work/data/era5/DJF_1981_2023_hourly_means/DJF_1981_2023_net_solar_radiation/surface_net_solar_radiation_200501.nc',\n",
       " '/Volumes/LaCie/Work/data/era5/DJF_1981_2023_hourly_means/DJF_1981_2023_net_solar_radiation/surface_net_solar_radiation_200502.nc',\n",
       " '/Volumes/LaCie/Work/data/era5/DJF_1981_2023_hourly_means/DJF_1981_2023_net_solar_radiation/surface_net_solar_radiation_200512.nc',\n",
       " '/Volumes/LaCie/Work/data/era5/DJF_1981_2023_hourly_means/DJF_1981_2023_net_solar_radiation/surface_net_solar_radiation_200601.nc',\n",
       " '/Volumes/LaCie/Work/data/era5/DJF_1981_2023_hourly_means/DJF_1981_2023_net_solar_radiation/surface_net_solar_radiation_200602.nc',\n",
       " '/Volumes/LaCie/Work/data/era5/DJF_1981_2023_hourly_means/DJF_1981_2023_net_solar_radiation/surface_net_solar_radiation_200612.nc',\n",
       " '/Volumes/LaCie/Work/data/era5/DJF_1981_2023_hourly_means/DJF_1981_2023_net_solar_radiation/surface_net_solar_radiation_200701.nc',\n",
       " '/Volumes/LaCie/Work/data/era5/DJF_1981_2023_hourly_means/DJF_1981_2023_net_solar_radiation/surface_net_solar_radiation_200702.nc',\n",
       " '/Volumes/LaCie/Work/data/era5/DJF_1981_2023_hourly_means/DJF_1981_2023_net_solar_radiation/surface_net_solar_radiation_200712.nc',\n",
       " '/Volumes/LaCie/Work/data/era5/DJF_1981_2023_hourly_means/DJF_1981_2023_net_solar_radiation/surface_net_solar_radiation_200801.nc',\n",
       " '/Volumes/LaCie/Work/data/era5/DJF_1981_2023_hourly_means/DJF_1981_2023_net_solar_radiation/surface_net_solar_radiation_200802.nc',\n",
       " '/Volumes/LaCie/Work/data/era5/DJF_1981_2023_hourly_means/DJF_1981_2023_net_solar_radiation/surface_net_solar_radiation_200812.nc',\n",
       " '/Volumes/LaCie/Work/data/era5/DJF_1981_2023_hourly_means/DJF_1981_2023_net_solar_radiation/surface_net_solar_radiation_200901.nc',\n",
       " '/Volumes/LaCie/Work/data/era5/DJF_1981_2023_hourly_means/DJF_1981_2023_net_solar_radiation/surface_net_solar_radiation_200902.nc',\n",
       " '/Volumes/LaCie/Work/data/era5/DJF_1981_2023_hourly_means/DJF_1981_2023_net_solar_radiation/surface_net_solar_radiation_200912.nc',\n",
       " '/Volumes/LaCie/Work/data/era5/DJF_1981_2023_hourly_means/DJF_1981_2023_net_solar_radiation/surface_net_solar_radiation_201001.nc',\n",
       " '/Volumes/LaCie/Work/data/era5/DJF_1981_2023_hourly_means/DJF_1981_2023_net_solar_radiation/surface_net_solar_radiation_201002.nc',\n",
       " '/Volumes/LaCie/Work/data/era5/DJF_1981_2023_hourly_means/DJF_1981_2023_net_solar_radiation/surface_net_solar_radiation_201012.nc',\n",
       " '/Volumes/LaCie/Work/data/era5/DJF_1981_2023_hourly_means/DJF_1981_2023_net_solar_radiation/surface_net_solar_radiation_201101.nc',\n",
       " '/Volumes/LaCie/Work/data/era5/DJF_1981_2023_hourly_means/DJF_1981_2023_net_solar_radiation/surface_net_solar_radiation_201102.nc',\n",
       " '/Volumes/LaCie/Work/data/era5/DJF_1981_2023_hourly_means/DJF_1981_2023_net_solar_radiation/surface_net_solar_radiation_201112.nc',\n",
       " '/Volumes/LaCie/Work/data/era5/DJF_1981_2023_hourly_means/DJF_1981_2023_net_solar_radiation/surface_net_solar_radiation_201201.nc',\n",
       " '/Volumes/LaCie/Work/data/era5/DJF_1981_2023_hourly_means/DJF_1981_2023_net_solar_radiation/surface_net_solar_radiation_201202.nc',\n",
       " '/Volumes/LaCie/Work/data/era5/DJF_1981_2023_hourly_means/DJF_1981_2023_net_solar_radiation/surface_net_solar_radiation_201212.nc',\n",
       " '/Volumes/LaCie/Work/data/era5/DJF_1981_2023_hourly_means/DJF_1981_2023_net_solar_radiation/surface_net_solar_radiation_201301.nc',\n",
       " '/Volumes/LaCie/Work/data/era5/DJF_1981_2023_hourly_means/DJF_1981_2023_net_solar_radiation/surface_net_solar_radiation_201302.nc',\n",
       " '/Volumes/LaCie/Work/data/era5/DJF_1981_2023_hourly_means/DJF_1981_2023_net_solar_radiation/surface_net_solar_radiation_201312.nc',\n",
       " '/Volumes/LaCie/Work/data/era5/DJF_1981_2023_hourly_means/DJF_1981_2023_net_solar_radiation/surface_net_solar_radiation_201401.nc',\n",
       " '/Volumes/LaCie/Work/data/era5/DJF_1981_2023_hourly_means/DJF_1981_2023_net_solar_radiation/surface_net_solar_radiation_201402.nc',\n",
       " '/Volumes/LaCie/Work/data/era5/DJF_1981_2023_hourly_means/DJF_1981_2023_net_solar_radiation/surface_net_solar_radiation_201412.nc',\n",
       " '/Volumes/LaCie/Work/data/era5/DJF_1981_2023_hourly_means/DJF_1981_2023_net_solar_radiation/surface_net_solar_radiation_201501.nc',\n",
       " '/Volumes/LaCie/Work/data/era5/DJF_1981_2023_hourly_means/DJF_1981_2023_net_solar_radiation/surface_net_solar_radiation_201502.nc',\n",
       " '/Volumes/LaCie/Work/data/era5/DJF_1981_2023_hourly_means/DJF_1981_2023_net_solar_radiation/surface_net_solar_radiation_201512.nc',\n",
       " '/Volumes/LaCie/Work/data/era5/DJF_1981_2023_hourly_means/DJF_1981_2023_net_solar_radiation/surface_net_solar_radiation_201601.nc',\n",
       " '/Volumes/LaCie/Work/data/era5/DJF_1981_2023_hourly_means/DJF_1981_2023_net_solar_radiation/surface_net_solar_radiation_201602.nc',\n",
       " '/Volumes/LaCie/Work/data/era5/DJF_1981_2023_hourly_means/DJF_1981_2023_net_solar_radiation/surface_net_solar_radiation_201612.nc',\n",
       " '/Volumes/LaCie/Work/data/era5/DJF_1981_2023_hourly_means/DJF_1981_2023_net_solar_radiation/surface_net_solar_radiation_201701.nc',\n",
       " '/Volumes/LaCie/Work/data/era5/DJF_1981_2023_hourly_means/DJF_1981_2023_net_solar_radiation/surface_net_solar_radiation_201702.nc',\n",
       " '/Volumes/LaCie/Work/data/era5/DJF_1981_2023_hourly_means/DJF_1981_2023_net_solar_radiation/surface_net_solar_radiation_201712.nc',\n",
       " '/Volumes/LaCie/Work/data/era5/DJF_1981_2023_hourly_means/DJF_1981_2023_net_solar_radiation/surface_net_solar_radiation_201801.nc',\n",
       " '/Volumes/LaCie/Work/data/era5/DJF_1981_2023_hourly_means/DJF_1981_2023_net_solar_radiation/surface_net_solar_radiation_201802.nc',\n",
       " '/Volumes/LaCie/Work/data/era5/DJF_1981_2023_hourly_means/DJF_1981_2023_net_solar_radiation/surface_net_solar_radiation_201812.nc',\n",
       " '/Volumes/LaCie/Work/data/era5/DJF_1981_2023_hourly_means/DJF_1981_2023_net_solar_radiation/surface_net_solar_radiation_201901.nc',\n",
       " '/Volumes/LaCie/Work/data/era5/DJF_1981_2023_hourly_means/DJF_1981_2023_net_solar_radiation/surface_net_solar_radiation_201902.nc',\n",
       " '/Volumes/LaCie/Work/data/era5/DJF_1981_2023_hourly_means/DJF_1981_2023_net_solar_radiation/surface_net_solar_radiation_201912.nc',\n",
       " '/Volumes/LaCie/Work/data/era5/DJF_1981_2023_hourly_means/DJF_1981_2023_net_solar_radiation/surface_net_solar_radiation_202001.nc',\n",
       " '/Volumes/LaCie/Work/data/era5/DJF_1981_2023_hourly_means/DJF_1981_2023_net_solar_radiation/surface_net_solar_radiation_202002.nc',\n",
       " '/Volumes/LaCie/Work/data/era5/DJF_1981_2023_hourly_means/DJF_1981_2023_net_solar_radiation/surface_net_solar_radiation_202012.nc',\n",
       " '/Volumes/LaCie/Work/data/era5/DJF_1981_2023_hourly_means/DJF_1981_2023_net_solar_radiation/surface_net_solar_radiation_202101.nc',\n",
       " '/Volumes/LaCie/Work/data/era5/DJF_1981_2023_hourly_means/DJF_1981_2023_net_solar_radiation/surface_net_solar_radiation_202102.nc',\n",
       " '/Volumes/LaCie/Work/data/era5/DJF_1981_2023_hourly_means/DJF_1981_2023_net_solar_radiation/surface_net_solar_radiation_202112.nc',\n",
       " '/Volumes/LaCie/Work/data/era5/DJF_1981_2023_hourly_means/DJF_1981_2023_net_solar_radiation/surface_net_solar_radiation_202201.nc',\n",
       " '/Volumes/LaCie/Work/data/era5/DJF_1981_2023_hourly_means/DJF_1981_2023_net_solar_radiation/surface_net_solar_radiation_202202.nc',\n",
       " '/Volumes/LaCie/Work/data/era5/DJF_1981_2023_hourly_means/DJF_1981_2023_net_solar_radiation/surface_net_solar_radiation_202212.nc',\n",
       " '/Volumes/LaCie/Work/data/era5/DJF_1981_2023_hourly_means/DJF_1981_2023_net_solar_radiation/surface_net_solar_radiation_202301.nc',\n",
       " '/Volumes/LaCie/Work/data/era5/DJF_1981_2023_hourly_means/DJF_1981_2023_net_solar_radiation/surface_net_solar_radiation_202302.nc']"
      ]
     },
     "execution_count": 13,
     "metadata": {},
     "output_type": "execute_result"
    }
   ],
   "source": [
    "file_list"
   ]
  },
  {
   "cell_type": "code",
   "execution_count": 14,
   "id": "a6dcd13c-d419-4231-80d2-c758ec8ffc0e",
   "metadata": {},
   "outputs": [
    {
     "name": "stdout",
     "output_type": "stream",
     "text": [
      "net_solar_radiation\n"
     ]
    },
    {
     "data": {
      "application/vnd.jupyter.widget-view+json": {
       "model_id": "34990a03d4da419b9f86913e54844798",
       "version_major": 2,
       "version_minor": 0
      },
      "text/plain": [
       "  0%|          | 0/1 [00:00<?, ?it/s]"
      ]
     },
     "metadata": {},
     "output_type": "display_data"
    },
    {
     "name": "stdout",
     "output_type": "stream",
     "text": [
      "2022\n",
      "saving to file...\n",
      "net_thermal_radiation\n"
     ]
    },
    {
     "data": {
      "application/vnd.jupyter.widget-view+json": {
       "model_id": "16acffdb083c40a78dab99999ce9f727",
       "version_major": 2,
       "version_minor": 0
      },
      "text/plain": [
       "  0%|          | 0/1 [00:00<?, ?it/s]"
      ]
     },
     "metadata": {},
     "output_type": "display_data"
    },
    {
     "name": "stdout",
     "output_type": "stream",
     "text": [
      "2022\n",
      "saving to file...\n"
     ]
    }
   ],
   "source": [
    "data_directory_out = '/Volumes/LaCie/Work/data/era5/DJF_1981_2023_daily_means/'\n",
    "\n",
    "vars = [\n",
    "    # 'winds', \n",
    "    # 'latent_heat_flux', \n",
    "    # 'sensible_heat_flux', \n",
    "    # '2m_dewpoint_temperature', \n",
    "    # '2m_temperature', \n",
    "    'net_solar_radiation',\n",
    "    'net_thermal_radiation',\n",
    "    # 'sea_ice_cover', \n",
    "    # 'sea_surface_temperature'\n",
    "]\n",
    "\n",
    "for var in vars:\n",
    "\n",
    "    data_directory_in  = '/Volumes/LaCie/Work/data/era5/DJF_1981_2023_hourly_means/DJF_1981_2023_' + var + '/*.nc'\n",
    "\n",
    "    file_list = sorted(glob(data_directory_in))\n",
    "\n",
    "    print(str(var))\n",
    "    \n",
    "    years = np.arange(2022, 2023)\n",
    "    \n",
    "    for y in tqdm(range(years.size)):\n",
    "    \n",
    "        year = years[y]\n",
    "        print(year)\n",
    "    \n",
    "        D = str(year) + '12.nc'\n",
    "        J = str(year+1) + '01.nc'\n",
    "        F = str(year+1) + '02.nc'\n",
    "        \n",
    "        # choose only the files that are dec, jan or feb\n",
    "        filtered_files = [file for file in file_list if file.endswith(D) or file.endswith(J) or file.endswith(F)]\n",
    "        \n",
    "        # load them into xarray\n",
    "        ds = xr.open_mfdataset(filtered_files, engine='netcdf4')\n",
    "    \n",
    "        # load the dataset\n",
    "        ds = ds.load()    \n",
    "\n",
    "        # cut the latitudes to our definition of the southern ocean\n",
    "        ds = ds.sel(latitude=slice(-40, -90))\n",
    "\n",
    "        # convert the fluxes to W m-2\n",
    "        if var == 'net_solar_radiation':\n",
    "        \n",
    "            ds['ssr'] = (('time', 'latitude', 'longitude'), (ds['ssr'] / 3600).data) \n",
    "\n",
    "        if var == 'net_thermal_radiation':\n",
    "        \n",
    "            ds['str'] = (('time', 'latitude', 'longitude'), (ds['str'] / 3600).data)                 \n",
    "    \n",
    "        # as this stage - resample the data to daily resolution, then do the calculations and adjust longitudes\n",
    "\n",
    "        ds_1D = ds.resample(time='1D').mean()\n",
    "        \n",
    "        if var == 'winds':\n",
    "            \n",
    "            # calculate the wind speed\n",
    "            ds_1D['ws'] = (('time', 'latitude', 'longitude'), np.sqrt(ds_1D['u10'].data**2 + ds_1D['v10'].data**2))\n",
    "        \n",
    "        # Adjust the longitudes to be -180 to 180\n",
    "        ds_1D = adjust_lon_xr_dataset(ds_1D)    \n",
    "    \n",
    "        print('saving to file...')\n",
    "        \n",
    "        ds_1D.to_netcdf(data_directory_out + str(var) + '_' + str(year) + '_DJF.nc')"
   ]
  },
  {
   "cell_type": "code",
   "execution_count": null,
   "id": "5deda1be-9262-4c54-9e0f-1bed8c922410",
   "metadata": {},
   "outputs": [],
   "source": []
  }
 ],
 "metadata": {
  "kernelspec": {
   "display_name": "Python 3 (ipykernel)",
   "language": "python",
   "name": "python3"
  },
  "language_info": {
   "codemirror_mode": {
    "name": "ipython",
    "version": 3
   },
   "file_extension": ".py",
   "mimetype": "text/x-python",
   "name": "python",
   "nbconvert_exporter": "python",
   "pygments_lexer": "ipython3",
   "version": "3.11.5"
  }
 },
 "nbformat": 4,
 "nbformat_minor": 5
}
