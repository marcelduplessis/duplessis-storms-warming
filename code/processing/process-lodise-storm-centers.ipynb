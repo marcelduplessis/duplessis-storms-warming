{
 "cells": [
  {
   "cell_type": "code",
   "execution_count": 1,
   "id": "0d6d3f8d-734a-43e9-94a1-c3369498df10",
   "metadata": {},
   "outputs": [
    {
     "name": "stdout",
     "output_type": "stream",
     "text": [
      "Intel MKL WARNING: Support of Intel(R) Streaming SIMD Extensions 4.2 (Intel(R) SSE4.2) enabled only processors has been deprecated. Intel oneAPI Math Kernel Library 2025.0 will require Intel(R) Advanced Vector Extensions (Intel(R) AVX) instructions.\n",
      "Intel MKL WARNING: Support of Intel(R) Streaming SIMD Extensions 4.2 (Intel(R) SSE4.2) enabled only processors has been deprecated. Intel oneAPI Math Kernel Library 2025.0 will require Intel(R) Advanced Vector Extensions (Intel(R) AVX) instructions.\n"
     ]
    }
   ],
   "source": [
    "import pandas as pd\n",
    "import xarray as xr\n",
    "import numpy as np\n",
    "\n",
    "from tqdm.notebook import tqdm"
   ]
  },
  {
   "cell_type": "code",
   "execution_count": 3,
   "id": "14fd47e2-0357-47ee-9471-6a5a296be2a6",
   "metadata": {},
   "outputs": [
    {
     "data": {
      "application/vnd.jupyter.widget-view+json": {
       "model_id": "0f5217eccd0446a0a2b0d45d66500a39",
       "version_major": 2,
       "version_minor": 0
      },
      "text/plain": [
       "  0%|          | 0/40 [00:00<?, ?it/s]"
      ]
     },
     "metadata": {},
     "output_type": "display_data"
    },
    {
     "name": "stderr",
     "output_type": "stream",
     "text": [
      "/var/folders/v4/3lf8sz_n06jf5z94ng5n_mnh0000gp/T/ipykernel_73079/1448243911.py:17: UserWarning: Converting non-nanosecond precision datetime values to nanosecond precision. This behavior can eventually be relaxed in xarray, as it is an artifact from pandas which is now beginning to support non-nanosecond precision values. This warning is caused by passing non-nanosecond np.datetime64 or np.timedelta64 values to the DataArray or Variable constructor; it can be silenced by converting the values to nanosecond precision ahead of time.\n",
      "  ds_cyclones = ds_cyclones.assign_coords(TIME = ds_cyclones['Time'].astype(np.datetime64))\n"
     ]
    }
   ],
   "source": [
    "for yr in tqdm(range(1981, 2021)):\n",
    "    \n",
    "    stm = pd.read_csv('../../data/storms_lodise/cyclone_tracks_lodise/SO_EC_tracks_' + str(yr) + '.csv')\n",
    "    \n",
    "    if yr == 1981:\n",
    "        \n",
    "        storms = stm\n",
    "        \n",
    "    else:\n",
    "\n",
    "        stm['Storm ID'] = stm['Storm ID'] + storms['Storm ID'].max()\n",
    "        \n",
    "        storms = pd.concat([storms, stm])\n",
    "\n",
    "ds_cyclones = storms.to_xarray()\n",
    "\n",
    "ds_cyclones = ds_cyclones.assign_coords(TIME = ds_cyclones['Time'].astype(np.datetime64))\n",
    "ds_cyclones = ds_cyclones.swap_dims({'index': 'TIME'})\n",
    "\n",
    "ds_cyclones = ds_cyclones.rename({'Longitude': 'LONGITUDE',\n",
    "                                  'Latitude': 'LATITUDE',\n",
    "                                  'Storm ID': 'STORM_ID',\n",
    "                                  'Minimum Pressure (hPa)': 'PRESSURE_MIN'})\n",
    "\n",
    "ds_cyclones = ds_cyclones.drop(labels={'index', 'Time'})\n",
    "\n",
    "ds_cyclones.attrs['dataset'] = 'Southern Ocean Extratropical Cyclone Tracks'\n",
    "ds_cyclones.attrs['data source'] = 'https://github.com/jlodise/JGR2022_ExtratropicalCycloneTracker'\n",
    "ds_cyclones.attrs['method'] = 'Lodise et al. 2022 - Global Climatology of Extratropical Cyclones From a New Tracking Approach and Associated Wave Heights from Satellite Radar Altimeter'\n",
    "ds_cyclones.attrs['original data'] = 'ERA5 (https://www.ecmwf.int/en/forecasts/datasets/reanalysis-datasets/era5)'"
   ]
  },
  {
   "cell_type": "code",
   "execution_count": 4,
   "id": "21141e29-ee68-49b8-8d1f-ed6b46bc9042",
   "metadata": {},
   "outputs": [],
   "source": [
    "ds_cyclones.to_netcdf('../../data/storms_lodise/ec_centers_1981_2020.nc')"
   ]
  },
  {
   "cell_type": "code",
   "execution_count": null,
   "id": "4c9d85c3-e5af-4895-b8bc-1d143a2e54fb",
   "metadata": {},
   "outputs": [],
   "source": []
  }
 ],
 "metadata": {
  "kernelspec": {
   "display_name": "Python 3 (ipykernel)",
   "language": "python",
   "name": "python3"
  },
  "language_info": {
   "codemirror_mode": {
    "name": "ipython",
    "version": 3
   },
   "file_extension": ".py",
   "mimetype": "text/x-python",
   "name": "python",
   "nbconvert_exporter": "python",
   "pygments_lexer": "ipython3",
   "version": "3.11.5"
  }
 },
 "nbformat": 4,
 "nbformat_minor": 5
}
