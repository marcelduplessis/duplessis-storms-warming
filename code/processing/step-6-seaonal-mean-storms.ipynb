{
 "cells": [
  {
   "cell_type": "code",
   "execution_count": 1,
   "id": "44d68c27",
   "metadata": {},
   "outputs": [],
   "source": [
    "import xarray as xr\n",
    "import datetime\n",
    "import numpy as np"
   ]
  },
  {
   "cell_type": "code",
   "execution_count": 7,
   "id": "da418c53",
   "metadata": {},
   "outputs": [
    {
     "name": "stdout",
     "output_type": "stream",
     "text": [
      "Processing year: 1981\n",
      "Processing year: 1982\n",
      "Processing year: 1983\n",
      "Processing year: 1984\n",
      "Processing year: 1985\n",
      "Processing year: 1986\n",
      "Processing year: 1987\n",
      "Processing year: 1988\n",
      "Processing year: 1989\n",
      "Processing year: 1990\n",
      "Processing year: 1991\n",
      "Processing year: 1992\n",
      "Processing year: 1993\n",
      "Processing year: 1994\n",
      "Processing year: 1995\n",
      "Processing year: 1996\n",
      "Processing year: 1997\n",
      "Processing year: 1998\n",
      "Processing year: 1999\n",
      "Processing year: 2000\n",
      "Processing year: 2001\n",
      "Processing year: 2002\n",
      "Processing year: 2003\n",
      "Processing year: 2004\n",
      "Processing year: 2005\n",
      "Processing year: 2006\n",
      "Processing year: 2007\n",
      "Processing year: 2008\n",
      "Processing year: 2009\n",
      "Processing year: 2010\n",
      "Processing year: 2011\n",
      "Processing year: 2012\n",
      "Processing year: 2013\n",
      "Processing year: 2014\n",
      "Processing year: 2015\n",
      "Processing year: 2016\n",
      "Processing year: 2017\n",
      "Processing year: 2018\n",
      "Processing year: 2019\n",
      "\n",
      "Combined Seasonal Means Dataset:\n",
      "<xarray.Dataset> Size: 1MB\n",
      "Dimensions:  (year: 39, x: 41, y: 41)\n",
      "Coordinates:\n",
      "  * x        (x) int64 328B -1000 -950 -900 -850 -800 ... 800 850 900 950 1000\n",
      "  * y        (y) int64 328B -1000 -950 -900 -850 -800 ... 800 850 900 950 1000\n",
      "  * year     (year) int64 312B 1981 1982 1983 1984 1985 ... 2016 2017 2018 2019\n",
      "Data variables:\n",
      "    u10      (year, x, y) float64 524kB 2.873 2.754 2.662 ... 5.68 5.539 5.405\n",
      "    v10      (year, x, y) float64 524kB 0.1899 0.3008 0.4039 ... -4.858 -4.777\n",
      "\n",
      "Shape of combined dataset (e.g., 'year', 'lat', 'lon'):\n"
     ]
    },
    {
     "ename": "AttributeError",
     "evalue": "'Dataset' object has no attribute 'shape'",
     "output_type": "error",
     "traceback": [
      "\u001b[0;31m---------------------------------------------------------------------------\u001b[0m",
      "\u001b[0;31mAttributeError\u001b[0m                            Traceback (most recent call last)",
      "Cell \u001b[0;32mIn[7], line 54\u001b[0m\n\u001b[1;32m     52\u001b[0m     \u001b[38;5;28mprint\u001b[39m(combined_seasonal_means)\n\u001b[1;32m     53\u001b[0m     \u001b[38;5;28mprint\u001b[39m(\u001b[38;5;124m\"\u001b[39m\u001b[38;5;130;01m\\n\u001b[39;00m\u001b[38;5;124mShape of combined dataset (e.g., \u001b[39m\u001b[38;5;124m'\u001b[39m\u001b[38;5;124myear\u001b[39m\u001b[38;5;124m'\u001b[39m\u001b[38;5;124m, \u001b[39m\u001b[38;5;124m'\u001b[39m\u001b[38;5;124mlat\u001b[39m\u001b[38;5;124m'\u001b[39m\u001b[38;5;124m, \u001b[39m\u001b[38;5;124m'\u001b[39m\u001b[38;5;124mlon\u001b[39m\u001b[38;5;124m'\u001b[39m\u001b[38;5;124m):\u001b[39m\u001b[38;5;124m\"\u001b[39m)\n\u001b[0;32m---> 54\u001b[0m     \u001b[38;5;28mprint\u001b[39m(\u001b[43mcombined_seasonal_means\u001b[49m\u001b[38;5;241;43m.\u001b[39;49m\u001b[43mshape\u001b[49m)\n\u001b[1;32m     55\u001b[0m \u001b[38;5;28;01melse\u001b[39;00m:\n\u001b[1;32m     56\u001b[0m     \u001b[38;5;28mprint\u001b[39m(\u001b[38;5;124m\"\u001b[39m\u001b[38;5;130;01m\\n\u001b[39;00m\u001b[38;5;124mNo seasonal means were calculated. Check your data and time ranges.\u001b[39m\u001b[38;5;124m\"\u001b[39m)\n",
      "File \u001b[0;32m~/sw/miniconda3/envs/my-env/lib/python3.10/site-packages/xarray/core/common.py:302\u001b[0m, in \u001b[0;36mAttrAccessMixin.__getattr__\u001b[0;34m(self, name)\u001b[0m\n\u001b[1;32m    300\u001b[0m         \u001b[38;5;28;01mwith\u001b[39;00m suppress(\u001b[38;5;167;01mKeyError\u001b[39;00m):\n\u001b[1;32m    301\u001b[0m             \u001b[38;5;28;01mreturn\u001b[39;00m source[name]\n\u001b[0;32m--> 302\u001b[0m \u001b[38;5;28;01mraise\u001b[39;00m \u001b[38;5;167;01mAttributeError\u001b[39;00m(\n\u001b[1;32m    303\u001b[0m     \u001b[38;5;124mf\u001b[39m\u001b[38;5;124m\"\u001b[39m\u001b[38;5;132;01m{\u001b[39;00m\u001b[38;5;28mtype\u001b[39m(\u001b[38;5;28mself\u001b[39m)\u001b[38;5;241m.\u001b[39m\u001b[38;5;18m__name__\u001b[39m\u001b[38;5;132;01m!r}\u001b[39;00m\u001b[38;5;124m object has no attribute \u001b[39m\u001b[38;5;132;01m{\u001b[39;00mname\u001b[38;5;132;01m!r}\u001b[39;00m\u001b[38;5;124m\"\u001b[39m\n\u001b[1;32m    304\u001b[0m )\n",
      "\u001b[0;31mAttributeError\u001b[0m: 'Dataset' object has no attribute 'shape'"
     ]
    }
   ],
   "source": [
    "variable = 'winds'\n",
    "\n",
    "ds = xr.open_dataset('/home/mduplessis/data/era5/storms/combined_storms_' + variable + '_no_ice.nc')\n",
    "\n",
    "# ds = ds['str']/3600\n",
    "# ds = ds['msl'] / 100  # Convert from Pa to hPa\n",
    "ds = ds[['u10', 'v10']] # Select only the u10 and v10 variables\n",
    "\n",
    "# --- 1. List to store seasonal means for each year ---\n",
    "seasonal_means_list = []\n",
    "\n",
    "# --- 2. Loop through the years ---\n",
    "start_year = 1981\n",
    "end_year = 2019 # Loop up to and including 2020\n",
    "\n",
    "for year in range(start_year, end_year + 1):\n",
    "    print(f\"Processing year: {year}\")\n",
    "\n",
    "    # Define the summer season (Dec 1st of current year to Mar 1st of next year)\n",
    "    # Using datetime.datetime for clarity, then converting to numpy.datetime64\n",
    "    start_time_dt = datetime.datetime(year, 12, 1)\n",
    "    end_time_dt = datetime.datetime(year + 1, 3, 1)\n",
    "\n",
    "    start_time_np = np.datetime64(start_time_dt)\n",
    "    end_time_np = np.datetime64(end_time_dt)\n",
    "\n",
    "    # Boolean indexing for time selection\n",
    "    # Using >= and < to include Dec 1st and exclude Mar 1st of the next year\n",
    "    time_idx = (ds.time >= start_time_np) & (ds.time < end_time_np)\n",
    "\n",
    "    # Select the data for the current winter season\n",
    "    ds_season = ds.isel(time=time_idx)\n",
    "\n",
    "    # Check if data was actually selected (important for edge cases or sparse data)\n",
    "    if ds_season.time.size == 0:\n",
    "        print(f\"  Warning: No data found for the summer season {year}-{year+1}. Skipping.\")\n",
    "        continue\n",
    "\n",
    "    # Calculate the mean over the time dimension for the season\n",
    "    # Add a new coordinate 'year' to label this specific seasonal mean\n",
    "    ds_season_mean = ds_season.mean(dim='time')\n",
    "    ds_season_mean = ds_season_mean.assign_coords(year=year) # Add year as a coordinate\n",
    "    ds_season_mean = ds_season_mean.expand_dims('year') # Make year a new dimension for concat\n",
    "\n",
    "    # Append the resulting mean dataset to the list\n",
    "    seasonal_means_list.append(ds_season_mean)\n",
    "\n",
    "# --- 3. Combine all yearly seasonal means into a single dataset ---\n",
    "if seasonal_means_list: # Check if the list is not empty\n",
    "    combined_seasonal_means = xr.concat(seasonal_means_list, dim='year')\n",
    "    print(\"\\nCombined Seasonal Means Dataset:\")\n",
    "    print(combined_seasonal_means)\n",
    "    print(\"\\nShape of combined dataset (e.g., 'year', 'lat', 'lon'):\")\n",
    "    print(combined_seasonal_means.shape)\n",
    "else:\n",
    "    print(\"\\nNo seasonal means were calculated. Check your data and time ranges.\")"
   ]
  },
  {
   "cell_type": "code",
   "execution_count": 9,
   "id": "f947c3e5",
   "metadata": {},
   "outputs": [
    {
     "data": {
      "text/plain": [
       "<matplotlib.collections.QuadMesh at 0x7443411536a0>"
      ]
     },
     "execution_count": 9,
     "metadata": {},
     "output_type": "execute_result"
    },
    {
     "data": {
      "image/png": "[encoded data removed]",
      "text/plain": [
       "<Figure size 640x480 with 2 Axes>"
      ]
     },
     "metadata": {},
     "output_type": "display_data"
    }
   ],
   "source": [
    "(combined_seasonal_means['u10'].sel(year=2019)).plot(cmap='viridis', add_colorbar=True)"
   ]
  },
  {
   "cell_type": "code",
   "execution_count": 11,
   "id": "e1409e48",
   "metadata": {},
   "outputs": [],
   "source": [
    "combined_seasonal_means.to_netcdf('/home/mduplessis/data/era5/storms/combined_storms_' + variable + '_seasonal_means.nc')"
   ]
  }
 ],
 "metadata": {
  "kernelspec": {
   "display_name": "my-env",
   "language": "python",
   "name": "python3"
  },
  "language_info": {
   "codemirror_mode": {
    "name": "ipython",
    "version": 3
   },
   "file_extension": ".py",
   "mimetype": "text/x-python",
   "name": "python",
   "nbconvert_exporter": "python",
   "pygments_lexer": "ipython3",
   "version": "3.10.16"
  }
 },
 "nbformat": 4,
 "nbformat_minor": 5
}
