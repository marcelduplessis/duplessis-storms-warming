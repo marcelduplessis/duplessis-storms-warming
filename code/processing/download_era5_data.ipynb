{
 "cells": [
  {
   "cell_type": "markdown",
   "id": "657c2549-afab-44d2-bbe6-df6034e92d25",
   "metadata": {},
   "source": [
    "#### Download ERA5 data for the Storms Study"
   ]
  },
  {
   "cell_type": "code",
   "execution_count": 1,
   "id": "a8f4bacd-7f1c-43a1-85d7-0496a0e87c60",
   "metadata": {},
   "outputs": [
    {
     "name": "stdout",
     "output_type": "stream",
     "text": [
      "Intel MKL WARNING: Support of Intel(R) Streaming SIMD Extensions 4.2 (Intel(R) SSE4.2) enabled only processors has been deprecated. Intel oneAPI Math Kernel Library 2025.0 will require Intel(R) Advanced Vector Extensions (Intel(R) AVX) instructions.\n",
      "Intel MKL WARNING: Support of Intel(R) Streaming SIMD Extensions 4.2 (Intel(R) SSE4.2) enabled only processors has been deprecated. Intel oneAPI Math Kernel Library 2025.0 will require Intel(R) Advanced Vector Extensions (Intel(R) AVX) instructions.\n"
     ]
    }
   ],
   "source": [
    "import sys\n",
    "sys.path.append('../functions/')\n",
    "\n",
    "import download_era5_cdsapi as dwn_era5\n",
    "import numpy as np\n",
    "import calendar"
   ]
  },
  {
   "cell_type": "code",
   "execution_count": 2,
   "id": "8c5533ab-544e-4d49-a913-4d0c9f9a913b",
   "metadata": {},
   "outputs": [],
   "source": [
    "dwn_path = '/Users/xduplm/Google Drive/My Drive/data/reanalysis/era5/DJF_1992_2023_hourly_means/'\n",
    "dwn_path = '/Volumes/LaCie/Work/data/era5/DJF_1981_2023_hourly_means/'\n",
    "\n",
    "years = np.arange(2023, 2024, 1)\n",
    "months = np.array([1,2])\n",
    "\n",
    "# years = np.arange(1981, 2024, 1)\n",
    "# months = np.array([12,1,2])\n",
    "\n",
    "var = [\n",
    "    # 'surface_latent_heat_flux',\n",
    "    # 'surface_sensible_heat_flux',    \n",
    "    # '2m_dewpoint_temperature',\n",
    "    # '2m_temperature',\n",
    "    # 'sea_ice_cover',\n",
    "    # '10m_v_component_of_wind',\n",
    "    # '10m_u_component_of_wind',\n",
    "    # 'sea_surface_temperature',\n",
    "    # 'skin_temperature',\n",
    "    # 'surface_pressure',\n",
    "    'surface_net_solar_radiation',\n",
    "    'surface_net_thermal_radiation',\n",
    "    # 'total_precipitation',\n",
    "    # 'evaporation'\n",
    "      ]"
   ]
  },
  {
   "cell_type": "code",
   "execution_count": 3,
   "id": "7e8cc033-d13e-49be-82be-a89fcdadf5bb",
   "metadata": {},
   "outputs": [
    {
     "name": "stderr",
     "output_type": "stream",
     "text": [
      "2024-07-20 21:30:01,391 INFO Welcome to the CDS\n",
      "2024-07-20 21:30:01,392 INFO Sending request to https://cds.climate.copernicus.eu/api/v2/resources/reanalysis-era5-single-levels\n",
      "2024-07-20 21:30:01,775 INFO Request is queued\n",
      "2024-07-20 21:30:02,849 INFO Request is running\n",
      "2024-07-20 21:31:17,311 INFO Request is completed\n",
      "2024-07-20 21:31:17,313 INFO Downloading https://download-0006-clone.copernicus-climate.eu/cache-compute-0006/cache/data4/adaptor.mars.internal-1721503861.835733-7206-12-da315eba-e453-41ba-bb5d-c24259f9e7f4.nc to /Volumes/LaCie/Work/data/era5/DJF_1981_2023_hourly_means/surface_net_solar_radiation_202301.nc (737.7M)\n",
      "2024-07-20 21:42:59,981 INFO Download rate 1M/s    \n",
      "2024-07-20 21:43:00,273 INFO Welcome to the CDS\n",
      "2024-07-20 21:43:00,274 INFO Sending request to https://cds.climate.copernicus.eu/api/v2/resources/reanalysis-era5-single-levels\n",
      "2024-07-20 21:43:00,345 INFO Request is queued\n",
      "2024-07-20 21:43:01,423 INFO Request is running\n",
      "2024-07-20 21:44:15,898 INFO Request is completed\n",
      "2024-07-20 21:44:15,901 INFO Downloading https://download-0012-clone.copernicus-climate.eu/cache-compute-0012/cache/data7/adaptor.mars.internal-1721504635.4289625-16801-10-0ead788d-59d4-496d-8744-05266cedd017.nc to /Volumes/LaCie/Work/data/era5/DJF_1981_2023_hourly_means/surface_net_solar_radiation_202302.nc (666.3M)\n",
      "2024-07-20 21:54:42,094 INFO Download rate 1.1M/s  \n",
      "2024-07-20 21:54:42,394 INFO Welcome to the CDS\n",
      "2024-07-20 21:54:42,395 INFO Sending request to https://cds.climate.copernicus.eu/api/v2/resources/reanalysis-era5-single-levels\n",
      "2024-07-20 21:54:42,514 INFO Request is queued\n",
      "2024-07-20 21:54:43,588 INFO Request is running\n",
      "2024-07-20 21:55:58,070 INFO Request is completed\n",
      "2024-07-20 21:55:58,071 INFO Downloading https://download-0003-clone.copernicus-climate.eu/cache-compute-0003/cache/data6/adaptor.mars.internal-1721505341.4441295-21993-11-985a0708-8ecf-44ef-8737-47844753fd0f.nc to /Volumes/LaCie/Work/data/era5/DJF_1981_2023_hourly_means/surface_net_thermal_radiation_202301.nc (737.7M)\n",
      "2024-07-20 22:07:24,156 INFO Download rate 1.1M/s  \n",
      "2024-07-20 22:07:24,454 INFO Welcome to the CDS\n",
      "2024-07-20 22:07:24,455 INFO Sending request to https://cds.climate.copernicus.eu/api/v2/resources/reanalysis-era5-single-levels\n",
      "2024-07-20 22:07:24,542 INFO Request is queued\n",
      "2024-07-20 22:07:25,612 INFO Request is running\n",
      "2024-07-20 22:08:40,036 INFO Request is completed\n",
      "2024-07-20 22:08:40,038 INFO Downloading https://download-0008-clone.copernicus-climate.eu/cache-compute-0008/cache/data2/adaptor.mars.internal-1721506097.1209764-29659-16-9bf615db-b556-4990-be76-6bdfec1b1977.nc to /Volumes/LaCie/Work/data/era5/DJF_1981_2023_hourly_means/surface_net_thermal_radiation_202302.nc (666.3M)\n",
      "2024-07-20 22:18:50,216 INFO Download rate 1.1M/s     \n"
     ]
    }
   ],
   "source": [
    "for v in var:\n",
    "    \n",
    "    for year in years:\n",
    "        \n",
    "        for month in months:\n",
    "            \n",
    "            # Determine the number of days in the current month\n",
    "            num_days = calendar.monthrange(year, month)[1]\n",
    "            \n",
    "            # Create a list of days using list comprehension\n",
    "            days = [f'{d:02}' for d in range(1, num_days + 1)]\n",
    "            \n",
    "            # Format month as a string with leading zero if needed\n",
    "            month_str = f'{month:02}'\n",
    "            \n",
    "            # Download Monthly Data\n",
    "            # dwn_era5.download_era5_cdsapi(var=v, days=days, month=month_str, year=str(year), dataset='reanalysis-era5-single-levels-monthly-means', product_type='monthly_averaged_reanalysis', path=dwn_path)\n",
    "            dwn_era5.download_era5_cdsapi(var=v, days=days, month=month_str, year=str(year), dataset='reanalysis-era5-single-levels', product_type='reanalysis', path=dwn_path)\n"
   ]
  },
  {
   "cell_type": "code",
   "execution_count": null,
   "id": "dd1553a8-4890-404e-b11d-4a2760245ea6",
   "metadata": {},
   "outputs": [],
   "source": []
  }
 ],
 "metadata": {
  "kernelspec": {
   "display_name": "Python 3 (ipykernel)",
   "language": "python",
   "name": "python3"
  },
  "language_info": {
   "codemirror_mode": {
    "name": "ipython",
    "version": 3
   },
   "file_extension": ".py",
   "mimetype": "text/x-python",
   "name": "python",
   "nbconvert_exporter": "python",
   "pygments_lexer": "ipython3",
   "version": "3.11.5"
  }
 },
 "nbformat": 4,
 "nbformat_minor": 5
}
