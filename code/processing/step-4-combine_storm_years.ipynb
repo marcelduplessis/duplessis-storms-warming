{
 "cells": [
  {
   "cell_type": "code",
   "execution_count": 1,
   "metadata": {},
   "outputs": [],
   "source": [
    "import xarray as xr\n",
    "import numpy as np\n",
    "from tqdm import tqdm"
   ]
  },
  {
   "cell_type": "code",
   "execution_count": 3,
   "metadata": {},
   "outputs": [
    {
     "name": "stderr",
     "output_type": "stream",
     "text": [
      "39it [00:01, 19.78it/s]\n"
     ]
    }
   ],
   "source": [
    "# Initialize an empty list to store the datasets\n",
    "datasets = []\n",
    "\n",
    "variable = 'sea_surface_temperature'\n",
    "\n",
    "years=np.arange(1981,2020)\n",
    "\n",
    "# Loop through each year and open the dataset\n",
    "for i, year in tqdm(enumerate(years)):\n",
    "    storm = xr.open_dataset(f'/home/mduplessis/data/era5/storms/storm_vars/{variable}/storms_{variable}_{year}.nc')\n",
    "    datasets.append(storm)\n",
    "\n",
    "# Concatenate all datasets along a new dimension (e.g., 'time' or 'year')\n",
    "combined_storms = xr.concat(datasets, dim='time')\n",
    "\n",
    "# Save the concatenated dataset to a new file if needed\n",
    "combined_storms.to_netcdf(f'/home/mduplessis/data/era5/storms/combined_storms_{variable}.nc')"
   ]
  },
  {
   "cell_type": "code",
   "execution_count": null,
   "metadata": {},
   "outputs": [],
   "source": []
  }
 ],
 "metadata": {
  "kernelspec": {
   "display_name": "my-env",
   "language": "python",
   "name": "python3"
  },
  "language_info": {
   "codemirror_mode": {
    "name": "ipython",
    "version": 3
   },
   "file_extension": ".py",
   "mimetype": "text/x-python",
   "name": "python",
   "nbconvert_exporter": "python",
   "pygments_lexer": "ipython3",
   "version": "3.10.16"
  }
 },
 "nbformat": 4,
 "nbformat_minor": 2
}
