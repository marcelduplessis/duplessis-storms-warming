{
 "cells": [
  {
   "cell_type": "code",
   "execution_count": 1,
   "metadata": {},
   "outputs": [],
   "source": [
    "import xarray as xr\n",
    "import numpy as np\n",
    "from tqdm import tqdm"
   ]
  },
  {
   "cell_type": "code",
   "execution_count": 2,
   "metadata": {},
   "outputs": [
    {
     "name": "stderr",
     "output_type": "stream",
     "text": [
      "39it [00:05,  7.31it/s]\n"
     ]
    }
   ],
   "source": [
    "# Initialize an empty list to store the datasets\n",
    "datasets = []\n",
    "\n",
    "variable = 'winds'\n",
    "\n",
    "years=np.arange(1981,2020)\n",
    "\n",
    "# Loop through each year and open the dataset\n",
    "for i, year in tqdm(enumerate(years)):\n",
    "    storm = xr.open_dataset(f'/home/mduplessis/data/era5/storms/storm_vars/{variable}/storms_{variable}_{year}.nc')\n",
    "    datasets.append(storm)"
   ]
  },
  {
   "cell_type": "code",
   "execution_count": 4,
   "metadata": {},
   "outputs": [],
   "source": [
    "# Concatenate all datasets along a new dimension (e.g., 'time' or 'year')\n",
    "combined_storms = xr.concat(datasets, dim='time')"
   ]
  },
  {
   "cell_type": "code",
   "execution_count": null,
   "metadata": {},
   "outputs": [],
   "source": [
    "if variable == 'winds':\n",
    "    # Perform slicing once\n",
    "    sliced_data = {\n",
    "        \"u10\": combined_storms.u10[::2],\n",
    "        \"v10\": combined_storms.v10[1::2],\n",
    "        \"time\": combined_storms.time[::2],\n",
    "    }\n",
    "\n",
    "    # Create the xarray dataset\n",
    "    ds_storm_wind = xr.Dataset(\n",
    "        {\n",
    "            \"u10\": ([\"time\", \"x\", \"y\"], sliced_data[\"u10\"].data),\n",
    "            \"v10\": ([\"time\", \"x\", \"y\"], sliced_data[\"v10\"].data)\n",
    "        },\n",
    "        coords={\n",
    "            \"time\": sliced_data[\"time\"].data,\n",
    "            \"x\": combined_storms.x.data,\n",
    "            \"y\": combined_storms.y.data\n",
    "        }\n",
    "    )\n",
    "\n",
    "    # Update the original dataset if needed\n",
    "    combined_storms = ds_storm_wind\n"
   ]
  },
  {
   "cell_type": "code",
   "execution_count": 10,
   "metadata": {},
   "outputs": [],
   "source": [
    "# Save the concatenated dataset to a new file if needed\n",
    "combined_storms.to_netcdf(f'/home/mduplessis/data/era5/storms/combined_storms_{variable}.nc')"
   ]
  }
 ],
 "metadata": {
  "kernelspec": {
   "display_name": "my-env",
   "language": "python",
   "name": "python3"
  },
  "language_info": {
   "codemirror_mode": {
    "name": "ipython",
    "version": 3
   },
   "file_extension": ".py",
   "mimetype": "text/x-python",
   "name": "python",
   "nbconvert_exporter": "python",
   "pygments_lexer": "ipython3",
   "version": "3.10.16"
  }
 },
 "nbformat": 4,
 "nbformat_minor": 2
}
