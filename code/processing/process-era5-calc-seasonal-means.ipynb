{
 "cells": [
  {
   "cell_type": "code",
   "execution_count": 2,
   "metadata": {},
   "outputs": [
    {
     "name": "stdout",
     "output_type": "stream",
     "text": [
      "Intel MKL WARNING: Support of Intel(R) Streaming SIMD Extensions 4.2 (Intel(R) SSE4.2) enabled only processors has been deprecated. Intel oneAPI Math Kernel Library 2025.0 will require Intel(R) Advanced Vector Extensions (Intel(R) AVX) instructions.\n",
      "Intel MKL WARNING: Support of Intel(R) Streaming SIMD Extensions 4.2 (Intel(R) SSE4.2) enabled only processors has been deprecated. Intel oneAPI Math Kernel Library 2025.0 will require Intel(R) Advanced Vector Extensions (Intel(R) AVX) instructions.\n"
     ]
    }
   ],
   "source": [
    "import xarray as xr\n",
    "import numpy as np"
   ]
  },
  {
   "cell_type": "code",
   "execution_count": 1,
   "metadata": {},
   "outputs": [],
   "source": [
    "# list the directories of the daily files of ERA5 fluxes and winds \n",
    "\n",
    "from glob import glob\n",
    "from tqdm.notebook import tqdm \n",
    "\n",
    "data_directory_lhf = glob('/Volumes/LaCie/Work/data/era5/DJF_1981_2023_daily_means/latent_heat_flux*.nc')\n",
    "data_directory_shf = glob('/Volumes/LaCie/Work/data/era5/DJF_1981_2023_daily_means/sensible_heat_flux*.nc')\n",
    "data_directory_ssr = glob('/Volumes/LaCie/Work/data/era5/DJF_1981_2023_daily_means/net_solar_radiation*.nc')\n",
    "data_directory_str = glob('/Volumes/LaCie/Work/data/era5/DJF_1981_2023_daily_means/net_thermal_radiation*.nc')\n",
    "data_directory_ws  = glob('/Volumes/LaCie/Work/data/era5/DJF_1981_2023_daily_means/winds*.nc')\n",
    "data_directory_sic = glob('/Volumes/LaCie/Work/data/era5/DJF_1981_2023_daily_means/sea_ice_cover*.nc')\n",
    "\n",
    "data_directory = sorted(data_directory_lhf + data_directory_shf + data_directory_ssr + data_directory_str + data_directory_ws + data_directory_sic)"
   ]
  },
  {
   "cell_type": "code",
   "execution_count": 3,
   "metadata": {},
   "outputs": [
    {
     "data": {
      "application/vnd.jupyter.widget-view+json": {
       "model_id": "86f5127ac86b4506aee4f38841b3f224",
       "version_major": 2,
       "version_minor": 0
      },
      "text/plain": [
       "  0%|          | 0/42 [00:00<?, ?it/s]"
      ]
     },
     "metadata": {},
     "output_type": "display_data"
    }
   ],
   "source": [
    "# for each year from 1981 to 2023, calculate the mean summer (DJF) fluxes and winds and put them in a xarray dataset called ds_mean\n",
    "\n",
    "years = np.arange(1981, 2023, 1)\n",
    "\n",
    "for y in tqdm(range(years.size)):\n",
    "\n",
    "    year = years[y]\n",
    "\n",
    "    flist = [file for file in data_directory if file.endswith(str(year) + '_DJF.nc')]\n",
    "\n",
    "    ds = xr.open_mfdataset(flist)\n",
    "\n",
    "    ds = ds.load()\n",
    "\n",
    "    # remove the data points where there is sea ice\n",
    "\n",
    "    # Create a mask for sea ice concentration values less than 0.15\n",
    "    date_mask = ds.siconc < 0.15\n",
    "\n",
    "    # Create a replacement array with NaN values for the same shape as ds\n",
    "    replacement_array = xr.full_like(ds.siconc, fill_value=np.nan, dtype=float)\n",
    "\n",
    "    # Combine the original data and the replacement array\n",
    "    ds = replacement_array.combine_first(ds.where(date_mask))\n",
    "\n",
    "    if y == 0:\n",
    "\n",
    "        ds_mean = ds.mean(dim='time', skipna=True)\n",
    "\n",
    "    else:\n",
    "\n",
    "        ds_mean = xr.concat([ds_mean, ds.mean(dim='time', skipna=True)], dim='time')\n"
   ]
  },
  {
   "cell_type": "code",
   "execution_count": null,
   "metadata": {},
   "outputs": [],
   "source": [
    "# calculate the net heat flux from the four components\n",
    "\n",
    "ds_mean['qnet'] = (('time', 'latitude', 'longitude'), ds_mean['sshf'].data + ds_mean['slhf'].data + ds_mean['str'].data + ds_mean['ssr'].data)"
   ]
  },
  {
   "cell_type": "code",
   "execution_count": null,
   "metadata": {},
   "outputs": [],
   "source": [
    "# save the mean fluxes and wind dataset\n",
    "\n",
    "ds_mean.to_netcdf('../../../data/era5/mean_summer_winds_fluxes_1981_2023.nc')"
   ]
  }
 ],
 "metadata": {
  "kernelspec": {
   "display_name": "storms_env",
   "language": "python",
   "name": "python3"
  },
  "language_info": {
   "codemirror_mode": {
    "name": "ipython",
    "version": 3
   },
   "file_extension": ".py",
   "mimetype": "text/x-python",
   "name": "python",
   "nbconvert_exporter": "python",
   "pygments_lexer": "ipython3",
   "version": "3.11.5"
  }
 },
 "nbformat": 4,
 "nbformat_minor": 2
}
