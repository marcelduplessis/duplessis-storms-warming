{
 "cells": [
  {
   "cell_type": "code",
   "execution_count": 1,
   "metadata": {},
   "outputs": [],
   "source": [
    "import xarray as xr\n",
    "from tqdm import tqdm\n",
    "import numpy as np\n",
    "\n",
    "import sys\n",
    "sys.path.append('../functions/')\n",
    "\n",
    "import storm_localization"
   ]
  },
  {
   "cell_type": "code",
   "execution_count": 2,
   "metadata": {},
   "outputs": [],
   "source": [
    "ds_summer_ocean_filtered = xr.open_dataset('/home/mduplessis/data/storms/ec_centers_1981_2020_500km_from_land_filtered_24hours.nc')"
   ]
  },
  {
   "cell_type": "code",
   "execution_count": 4,
   "metadata": {},
   "outputs": [
    {
     "name": "stdout",
     "output_type": "stream",
     "text": [
      "reading in era5 dataset for sea_surface_temperature 1981\n"
     ]
    }
   ],
   "source": [
    "# sst, sst_adjusted = storm_localization.read_era5_dataset('sea_surface_temperature', 1981)"
   ]
  },
  {
   "cell_type": "code",
   "execution_count": 19,
   "metadata": {},
   "outputs": [],
   "source": [
    "# def rename_valid_time_to_time(ds):\n",
    "#     if 'valid_time' in ds:\n",
    "#         ds = ds.rename({'valid_time': 'time'})\n",
    "#     return ds\n",
    "\n",
    "# # Example usage\n",
    "# sst = rename_valid_time_to_time(sst)\n",
    "# sst_adjusted = rename_valid_time_to_time(sst_adjusted)"
   ]
  },
  {
   "cell_type": "code",
   "execution_count": null,
   "metadata": {},
   "outputs": [
    {
     "name": "stderr",
     "output_type": "stream",
     "text": [
      "  0%|          | 0/16 [00:00<?, ?it/s]"
     ]
    },
    {
     "name": "stdout",
     "output_type": "stream",
     "text": [
      "reading in era5 dataset for ['winds'] 2005\n",
      "Selecting storm data for year 2005\n",
      "No storms provided, using all storms for the year 2005. Total number of storms: 294\n"
     ]
    },
    {
     "name": "stderr",
     "output_type": "stream",
     "text": [
      "  6%|▋         | 1/16 [38:09<9:32:11, 2288.76s/it]"
     ]
    },
    {
     "name": "stdout",
     "output_type": "stream",
     "text": [
      "reading in era5 dataset for ['winds'] 2006\n",
      "Selecting storm data for year 2006\n",
      "No storms provided, using all storms for the year 2006. Total number of storms: 292\n"
     ]
    },
    {
     "name": "stderr",
     "output_type": "stream",
     "text": [
      "/home/mduplessis/sw/miniconda3/envs/my-env/lib/python3.10/site-packages/joblib/externals/loky/process_executor.py:752: UserWarning: A worker stopped while some jobs were given to the executor. This can be caused by a too short worker timeout or by a memory leak.\n",
      "  warnings.warn(\n",
      "IOStream.flush timed out\n",
      "IOStream.flush timed out\n",
      " 12%|█▎        | 2/16 [1:27:43<10:28:15, 2692.54s/it]"
     ]
    },
    {
     "name": "stdout",
     "output_type": "stream",
     "text": [
      "reading in era5 dataset for ['winds'] 2007\n",
      "Selecting storm data for year 2007\n",
      "No storms provided, using all storms for the year 2007. Total number of storms: 260\n"
     ]
    },
    {
     "name": "stderr",
     "output_type": "stream",
     "text": [
      " 19%|█▉        | 3/16 [1:55:44<8:03:17, 2230.55s/it] "
     ]
    },
    {
     "name": "stdout",
     "output_type": "stream",
     "text": [
      "reading in era5 dataset for ['winds'] 2008\n",
      "Selecting storm data for year 2008\n",
      "No storms provided, using all storms for the year 2008. Total number of storms: 281\n"
     ]
    },
    {
     "name": "stderr",
     "output_type": "stream",
     "text": [
      " 25%|██▌       | 4/16 [2:26:29<6:55:40, 2078.35s/it]"
     ]
    },
    {
     "name": "stdout",
     "output_type": "stream",
     "text": [
      "reading in era5 dataset for ['winds'] 2009\n",
      "Selecting storm data for year 2009\n",
      "No storms provided, using all storms for the year 2009. Total number of storms: 293\n"
     ]
    },
    {
     "name": "stderr",
     "output_type": "stream",
     "text": [
      " 31%|███▏      | 5/16 [2:58:41<6:11:21, 2025.61s/it]"
     ]
    },
    {
     "name": "stdout",
     "output_type": "stream",
     "text": [
      "reading in era5 dataset for ['winds'] 2010\n",
      "Selecting storm data for year 2010\n",
      "No storms provided, using all storms for the year 2010. Total number of storms: 283\n"
     ]
    },
    {
     "name": "stderr",
     "output_type": "stream",
     "text": [
      " 38%|███▊      | 6/16 [3:30:27<5:30:48, 1984.82s/it]"
     ]
    },
    {
     "name": "stdout",
     "output_type": "stream",
     "text": [
      "reading in era5 dataset for ['winds'] 2011\n",
      "Selecting storm data for year 2011\n",
      "No storms provided, using all storms for the year 2011. Total number of storms: 287\n"
     ]
    },
    {
     "name": "stderr",
     "output_type": "stream",
     "text": [
      " 44%|████▍     | 7/16 [4:00:47<4:49:37, 1930.84s/it]"
     ]
    },
    {
     "name": "stdout",
     "output_type": "stream",
     "text": [
      "reading in era5 dataset for ['winds'] 2012\n",
      "Selecting storm data for year 2012\n",
      "No storms provided, using all storms for the year 2012. Total number of storms: 293\n"
     ]
    },
    {
     "name": "stderr",
     "output_type": "stream",
     "text": [
      " 50%|█████     | 8/16 [4:34:17<4:20:48, 1956.04s/it]"
     ]
    },
    {
     "name": "stdout",
     "output_type": "stream",
     "text": [
      "reading in era5 dataset for ['winds'] 2013\n",
      "Selecting storm data for year 2013\n",
      "No storms provided, using all storms for the year 2013. Total number of storms: 319\n"
     ]
    },
    {
     "name": "stderr",
     "output_type": "stream",
     "text": [
      " 56%|█████▋    | 9/16 [5:07:35<3:49:44, 1969.20s/it]"
     ]
    },
    {
     "name": "stdout",
     "output_type": "stream",
     "text": [
      "reading in era5 dataset for ['winds'] 2014\n",
      "Selecting storm data for year 2014\n",
      "No storms provided, using all storms for the year 2014. Total number of storms: 288\n"
     ]
    },
    {
     "name": "stderr",
     "output_type": "stream",
     "text": [
      " 62%|██████▎   | 10/16 [5:39:50<3:15:51, 1958.64s/it]"
     ]
    },
    {
     "name": "stdout",
     "output_type": "stream",
     "text": [
      "reading in era5 dataset for ['winds'] 2015\n",
      "Selecting storm data for year 2015\n",
      "No storms provided, using all storms for the year 2015. Total number of storms: 274\n"
     ]
    },
    {
     "name": "stderr",
     "output_type": "stream",
     "text": [
      " 69%|██████▉   | 11/16 [6:10:03<2:39:31, 1914.25s/it]"
     ]
    },
    {
     "name": "stdout",
     "output_type": "stream",
     "text": [
      "reading in era5 dataset for ['winds'] 2016\n",
      "Selecting storm data for year 2016\n",
      "No storms provided, using all storms for the year 2016. Total number of storms: 274\n"
     ]
    },
    {
     "name": "stderr",
     "output_type": "stream",
     "text": [
      " 75%|███████▌  | 12/16 [6:41:25<2:06:57, 1904.38s/it]"
     ]
    },
    {
     "name": "stdout",
     "output_type": "stream",
     "text": [
      "reading in era5 dataset for ['winds'] 2017\n",
      "Selecting storm data for year 2017\n",
      "No storms provided, using all storms for the year 2017. Total number of storms: 277\n"
     ]
    },
    {
     "name": "stderr",
     "output_type": "stream",
     "text": [
      " 81%|████████▏ | 13/16 [7:13:09<1:35:12, 1904.05s/it]"
     ]
    },
    {
     "name": "stdout",
     "output_type": "stream",
     "text": [
      "reading in era5 dataset for ['winds'] 2018\n",
      "Selecting storm data for year 2018\n",
      "No storms provided, using all storms for the year 2018. Total number of storms: 298\n"
     ]
    },
    {
     "name": "stderr",
     "output_type": "stream",
     "text": [
      " 88%|████████▊ | 14/16 [7:45:14<1:03:40, 1910.39s/it]"
     ]
    },
    {
     "name": "stdout",
     "output_type": "stream",
     "text": [
      "reading in era5 dataset for ['winds'] 2019\n",
      "Selecting storm data for year 2019\n",
      "No storms provided, using all storms for the year 2019. Total number of storms: 270\n"
     ]
    },
    {
     "name": "stderr",
     "output_type": "stream",
     "text": [
      " 94%|█████████▍| 15/16 [8:16:45<31:44, 1904.53s/it]  "
     ]
    },
    {
     "name": "stdout",
     "output_type": "stream",
     "text": [
      "reading in era5 dataset for ['winds'] 2020\n",
      "Selecting storm data for year 2020\n",
      "No storms provided, using all storms for the year 2020. Total number of storms: 91\n"
     ]
    },
    {
     "name": "stderr",
     "output_type": "stream",
     "text": [
      "100%|██████████| 16/16 [8:28:18<00:00, 1906.19s/it]\n"
     ]
    }
   ],
   "source": [
    "name = ['winds']\n",
    "var = ['u10', 'v10']\n",
    "\n",
    "for year in tqdm(range(1981, 2020)):\n",
    "\n",
    "    ds_summer_ocean_year = ds_summer_ocean_filtered.isel(TIME=ds_summer_ocean_filtered.TIME < np.datetime64(f'{year+1}-03-01T00:00:00'))\n",
    "\n",
    "    ds_summer_ocean_year = ds_summer_ocean_year.isel(TIME=ds_summer_ocean_year.TIME > np.datetime64(f'{year}-12-01T00:00:00'))\n",
    "\n",
    "    ds_all = storm_localization.process_storms(names=name, vars=var, storms_ds=ds_summer_ocean_year, year=year, storm_id=None)\n",
    "\n",
    "    ds_all = ds_all.isel(time=~np.isnat(ds_all.time))\n",
    "\n",
    "    ds_all.to_netcdf(f'/home/mduplessis/data/era5/storms/storm_vars/{name[0]}/storms_{name[0]}_{year}.nc')\n",
    "\n",
    "    del(ds_all)"
   ]
  },
  {
   "cell_type": "code",
   "execution_count": null,
   "metadata": {},
   "outputs": [],
   "source": []
  }
 ],
 "metadata": {
  "kernelspec": {
   "display_name": "my-env",
   "language": "python",
   "name": "python3"
  },
  "language_info": {
   "codemirror_mode": {
    "name": "ipython",
    "version": 3
   },
   "file_extension": ".py",
   "mimetype": "text/x-python",
   "name": "python",
   "nbconvert_exporter": "python",
   "pygments_lexer": "ipython3",
   "version": "3.10.16"
  }
 },
 "nbformat": 4,
 "nbformat_minor": 2
}
